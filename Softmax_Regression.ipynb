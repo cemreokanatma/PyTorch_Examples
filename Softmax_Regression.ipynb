{
 "cells": [
  {
   "cell_type": "code",
   "execution_count": 1,
   "metadata": {},
   "outputs": [],
   "source": [
    "import matplotlib.pyplot as plt\n",
    "import pandas as pd\n",
    "import torch\n",
    "import numpy as np\n",
    "from torchvision import datasets\n",
    "from torchvision import transforms\n",
    "from torch.utils.data import DataLoader\n",
    "import torch.nn.functional as F"
   ]
  },
  {
   "cell_type": "code",
   "execution_count": 2,
   "metadata": {
    "scrolled": false
   },
   "outputs": [
    {
     "name": "stdout",
     "output_type": "stream",
     "text": [
      "<class 'pandas.core.frame.DataFrame'>\n",
      "RangeIndex: 150 entries, 0 to 149\n",
      "Data columns (total 5 columns):\n",
      "x1    150 non-null float64\n",
      "x2    150 non-null float64\n",
      "x3    150 non-null float64\n",
      "x4    150 non-null float64\n",
      "y     150 non-null float32\n",
      "dtypes: float32(1), float64(4)\n",
      "memory usage: 5.4 KB\n"
     ]
    }
   ],
   "source": [
    "iris_df=pd.read_csv(\"https://archive.ics.uci.edu/ml/machine-learning-databases/iris/iris.data\",header=None)\n",
    "iris_df.columns = ['x1', 'x2', 'x3', 'x4', 'y']\n",
    "iris_type=iris_df[\"y\"].unique()\n",
    "y=iris_df[\"y\"].copy()\n",
    "a=0\n",
    "for i in iris_type:\n",
    "    y[y==i]=a\n",
    "    a=a+1\n",
    "iris_df[\"y\"]=y.astype(\"float32\")\n",
    "iris_df.info()"
   ]
  },
  {
   "cell_type": "code",
   "execution_count": 3,
   "metadata": {
    "scrolled": true
   },
   "outputs": [],
   "source": [
    "X=torch.tensor(iris_df.iloc[:,0:4].values,dtype=torch.float32)\n",
    "y=torch.tensor(iris_df[\"y\"].values,dtype=torch.int64)\n",
    "torch.manual_seed(123)\n",
    "shuffle_idx = torch.randperm(y.size(0), dtype=torch.long)\n",
    "X,y=X[shuffle_idx],y[shuffle_idx]\n",
    "train_split=int(y.size(0)*0.7)\n",
    "X_train,y_train,X_test,y_test=X[:train_split],y[:train_split],X[train_split:],y[train_split:]\n",
    "\n",
    "X_train=(X_train-X_train.min(dim=0)[0])/(X_train.max(dim=0)[0]-X_train.min(dim=0)[0])\n",
    "X_test=(X_test-X_test.min(dim=0)[0])/(X_test.max(dim=0)[0]-X_test.min(dim=0)[0])"
   ]
  },
  {
   "cell_type": "code",
   "execution_count": 4,
   "metadata": {},
   "outputs": [],
   "source": [
    "class softmaxregression(torch.nn.Module):\n",
    "    def __init__(self, num_features,num_classes):\n",
    "        super(softmaxregression, self).__init__()\n",
    "        self.linear = torch.nn.Linear(num_features, num_classes)\n",
    "\n",
    "    def forward(self, x):\n",
    "        logits = self.linear(x)\n",
    "        probs = F.softmax(logits, dim=1)\n",
    "        return logits,probs\n",
    "\n",
    "def train(model, x, y, num_epochs,\n",
    "          learning_rate=0.01, minibatch_size=10):\n",
    "    \n",
    "    cost = []\n",
    "    \n",
    "    optimizer = torch.optim.SGD(model.parameters(), lr=learning_rate)\n",
    "    \n",
    "    for e in range(num_epochs):\n",
    "        \n",
    "        shuffle_idx = torch.randperm(y.size(0), dtype=torch.long)\n",
    "        minibatches = torch.split(shuffle_idx, minibatch_size)\n",
    "        \n",
    "        for minibatch_idx in minibatches:\n",
    "\n",
    "            logits,probs = model(x[minibatch_idx])\n",
    "            \n",
    "            loss = F.cross_entropy(logits, y[minibatch_idx])\n",
    "            \n",
    "            optimizer.zero_grad()\n",
    "            \n",
    "            loss.backward()\n",
    "            \n",
    "            optimizer.step()\n",
    "        \n",
    "        with torch.no_grad():\n",
    "            logits,probs = model(x)\n",
    "            curr_loss = F.cross_entropy(logits, y)\n",
    "            cost.append(curr_loss)\n",
    "\n",
    "    return cost\n",
    "\n",
    "def test(model,x,y):\n",
    "    with torch.no_grad():\n",
    "        logits, probs = model(x)\n",
    "        _, predicted_labels = torch.max(probs, 1)\n",
    "        correct_pred = (predicted_labels == y).sum()\n",
    "        accuracy=(correct_pred/y.size(0))*100\n",
    "    return accuracy"
   ]
  },
  {
   "cell_type": "code",
   "execution_count": 5,
   "metadata": {
    "scrolled": true
   },
   "outputs": [
    {
     "name": "stdout",
     "output_type": "stream",
     "text": [
      "tensor(97.7778)\n",
      "tensor(97.1429)\n"
     ]
    },
    {
     "data": {
      "image/png": "[encoded data removed]",
      "text/plain": [
       "<Figure size 432x288 with 1 Axes>"
      ]
     },
     "metadata": {
      "needs_background": "light"
     },
     "output_type": "display_data"
    }
   ],
   "source": [
    "model = softmaxregression(num_features=4, num_classes=3)\n",
    "cost=train(model,X_train,y_train,num_epochs=16000,minibatch_size=10)\n",
    "test_accuracy=test(model,X_test,y_test)\n",
    "train_accuracy=test(model,X_train,y_train)\n",
    "plt.plot(cost)\n",
    "plt.ylabel('Cost')\n",
    "plt.xlabel('Epoch')\n",
    "print(test_accuracy)\n",
    "print(train_accuracy)"
   ]
  }
 ],
 "metadata": {
  "kernelspec": {
   "display_name": "Python 3",
   "language": "python",
   "name": "python3"
  },
  "language_info": {
   "codemirror_mode": {
    "name": "ipython",
    "version": 3
   },
   "file_extension": ".py",
   "mimetype": "text/x-python",
   "name": "python",
   "nbconvert_exporter": "python",
   "pygments_lexer": "ipython3",
   "version": "3.7.4"
  }
 },
 "nbformat": 4,
 "nbformat_minor": 2
}
