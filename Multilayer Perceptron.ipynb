{
 "cells": [
  {
   "cell_type": "markdown",
   "metadata": {},
   "source": [
    "### Libraries"
   ]
  },
  {
   "cell_type": "code",
   "execution_count": 2,
   "metadata": {},
   "outputs": [],
   "source": [
    "import torch\n",
    "from torchvision import datasets\n",
    "from torchvision import transforms\n",
    "from torch.utils.data import DataLoader,Subset,SubsetRandomSampler\n",
    "import torch.nn.functional as F\n",
    "import matplotlib.pyplot as plt"
   ]
  },
  {
   "cell_type": "markdown",
   "metadata": {},
   "source": [
    "### MNIST Data"
   ]
  },
  {
   "cell_type": "code",
   "execution_count": 3,
   "metadata": {
    "scrolled": false
   },
   "outputs": [],
   "source": [
    "custom_transform = transforms.Compose([transforms.ToTensor()])\n",
    "\n",
    "train_data=datasets.MNIST(root='./data', train=True, download=True,transform=custom_transform)\n",
    "test_data=datasets.MNIST(root='./data', train=False, download=True,transform=custom_transform)"
   ]
  },
  {
   "cell_type": "markdown",
   "metadata": {},
   "source": [
    "### Training and Test Set Size"
   ]
  },
  {
   "cell_type": "code",
   "execution_count": 12,
   "metadata": {
    "scrolled": false
   },
   "outputs": [
    {
     "name": "stdout",
     "output_type": "stream",
     "text": [
      "Training set size: torch.Size([60000, 28, 28])\n",
      "Training set size: torch.Size([60000, 28, 28])\n"
     ]
    }
   ],
   "source": [
    "print(\"Training set size:\",train_data.data.shape)\n",
    "print(\"Training set size:\",train_data.data.shape)"
   ]
  },
  {
   "cell_type": "code",
   "execution_count": 4,
   "metadata": {
    "scrolled": true
   },
   "outputs": [
    {
     "data": {
      "text/plain": [
       "(torch.Size([1, 28, 28]), torch.Size([28, 28]))"
      ]
     },
     "execution_count": 4,
     "metadata": {},
     "output_type": "execute_result"
    }
   ],
   "source": [
    "img, label = train_data[0]\n",
    "img2 = train_data.data[0]\n",
    "img.shape, img2.shape"
   ]
  },
  {
   "cell_type": "markdown",
   "metadata": {},
   "source": [
    "### Let's visualize it!!!"
   ]
  },
  {
   "cell_type": "code",
   "execution_count": 4,
   "metadata": {
    "scrolled": false
   },
   "outputs": [
    {
     "data": {
      "image/png": "[encoded data removed]",
      "text/plain": [
       "<Figure size 1152x1152 with 3 Axes>"
      ]
     },
     "metadata": {
      "needs_background": "light"
     },
     "output_type": "display_data"
    }
   ],
   "source": [
    "figure = plt.figure(figsize=(16,16))\n",
    "for i in range(1,4):\n",
    "    idx = torch.randint(len(train_data), size=(1,)).item()\n",
    "    img, label = train_data[idx]\n",
    "    figure.add_subplot(4, 1, i)\n",
    "    plt.title(label)\n",
    "    plt.imshow(img.reshape(28,28), cmap=\"binary\")\n",
    "plt.show()"
   ]
  },
  {
   "cell_type": "markdown",
   "metadata": {},
   "source": [
    "### We have a very large dataset. Use it to create a subset (optional)."
   ]
  },
  {
   "cell_type": "code",
   "execution_count": 5,
   "metadata": {},
   "outputs": [],
   "source": [
    "shuffle_idx = torch.randperm(len(train_data), dtype=torch.long)[:6000]\n",
    "train_data=Subset(train_data,shuffle_idx)\n",
    "test_data=Subset(test_data,shuffle_idx)"
   ]
  },
  {
   "cell_type": "markdown",
   "metadata": {},
   "source": [
    "## Dataloader"
   ]
  },
  {
   "cell_type": "code",
   "execution_count": 6,
   "metadata": {
    "scrolled": false
   },
   "outputs": [],
   "source": [
    "train_dataloader = DataLoader(train_data, batch_size=100, shuffle=True)\n",
    "test_dataloader = DataLoader(train_data, batch_size=600, shuffle=True)"
   ]
  },
  {
   "cell_type": "code",
   "execution_count": 7,
   "metadata": {},
   "outputs": [
    {
     "name": "stdout",
     "output_type": "stream",
     "text": [
      "Image batch dimensions: torch.Size([100, 1, 28, 28])\n",
      "Image label dimensions: torch.Size([100])\n"
     ]
    }
   ],
   "source": [
    "for images, labels in train_dataloader:  \n",
    "    print('Image batch dimensions:', images.shape)\n",
    "    print('Image label dimensions:', labels.shape)\n",
    "    break"
   ]
  },
  {
   "cell_type": "markdown",
   "metadata": {},
   "source": [
    "## Model"
   ]
  },
  {
   "cell_type": "code",
   "execution_count": 8,
   "metadata": {},
   "outputs": [],
   "source": [
    "class NNnetwork(torch.nn.Module):\n",
    "    def __init__(self, num_features, num_classes,\n",
    "                 num_hidden1, num_hidden2):\n",
    "        super(NNnetwork, self).__init__()\n",
    "        self.linear1 = torch.nn.Linear(num_features, num_hidden1)\n",
    "        self.linear2 = torch.nn.Linear(num_hidden1, num_hidden2)\n",
    "        self.linear3 = torch.nn.Linear(num_hidden2, num_classes)\n",
    "        \n",
    "    def forward(self, x):\n",
    "        out1 = self.linear1(x)\n",
    "        out2 = F.relu(out1)\n",
    "        out3 = self.linear2(out2)\n",
    "        out4 = F.relu(out3)\n",
    "        logits = self.linear3(out4) \n",
    "        probs = F.softmax(logits, dim=1)\n",
    "        return logits,probs\n",
    "\n",
    "def train(model, dataloader, num_epochs,\n",
    "          learning_rate=0.1):\n",
    "    \n",
    "    cost = []\n",
    "    \n",
    "    optimizer = torch.optim.SGD(model.parameters(), lr=learning_rate)\n",
    "    \n",
    "    for e in range(num_epochs):\n",
    "        model.train()\n",
    "        for  x, y in dataloader:\n",
    "\n",
    "            logits,probs = model(x.reshape(-1,28*28))\n",
    "            \n",
    "            loss = F.cross_entropy(logits, y.reshape(-1,))\n",
    "            \n",
    "            optimizer.zero_grad()\n",
    "            \n",
    "            loss.backward()\n",
    "            \n",
    "            optimizer.step()\n",
    "        model.eval()\n",
    "        with torch.no_grad():\n",
    "            epoch_loss=0\n",
    "            for  x, y in dataloader:\n",
    "                logits,probs = model(x.reshape(-1,28*28))\n",
    "                batch_loss = F.cross_entropy(logits, y.reshape(-1,))\n",
    "                epoch_loss = epoch_loss + batch_loss\n",
    "            cost.append(epoch_loss)\n",
    "\n",
    "    return cost\n",
    "\n",
    "def test(model,dataloader):\n",
    "    with torch.no_grad():\n",
    "        correct_pred,num_example=0,0\n",
    "        for  x, y in dataloader:\n",
    "            logits, probs = model(x.reshape(-1,28*28))\n",
    "            _, predicted_labels = torch.max(probs, 1)\n",
    "            correct_batch_pred = (predicted_labels == y).sum()\n",
    "            correct_pred = correct_pred + correct_batch_pred\n",
    "            num_example = num_example + predicted_labels.size(0)\n",
    "    accuracy=(correct_pred/num_example)*100\n",
    "    return accuracy"
   ]
  },
  {
   "cell_type": "code",
   "execution_count": 10,
   "metadata": {
    "scrolled": false
   },
   "outputs": [
    {
     "name": "stdout",
     "output_type": "stream",
     "text": [
      "Test set accuracy: tensor(99.9500)\n",
      "Train set accuracy: tensor(99.9500)\n"
     ]
    },
    {
     "data": {
      "image/png": "[encoded data removed]",
      "text/plain": [
       "<Figure size 432x288 with 1 Axes>"
      ]
     },
     "metadata": {
      "needs_background": "light"
     },
     "output_type": "display_data"
    }
   ],
   "source": [
    "model = NNnetwork(num_features=28*28, num_classes=10, num_hidden1=250, num_hidden2=50)\n",
    "cost=train(model, train_dataloader, num_epochs=50)\n",
    "test_accuracy=test(model, test_dataloader)\n",
    "train_accuracy=test(model, train_dataloader)\n",
    "plt.plot(cost)\n",
    "plt.ylabel('Training Loss')\n",
    "plt.xlabel('Epoch')\n",
    "print(\"Test set accuracy:\",test_accuracy)\n",
    "print(\"Train set accuracy:\",train_accuracy)"
   ]
  }
 ],
 "metadata": {
  "kernelspec": {
   "display_name": "Python 3",
   "language": "python",
   "name": "python3"
  },
  "language_info": {
   "codemirror_mode": {
    "name": "ipython",
    "version": 3
   },
   "file_extension": ".py",
   "mimetype": "text/x-python",
   "name": "python",
   "nbconvert_exporter": "python",
   "pygments_lexer": "ipython3",
   "version": "3.7.4"
  }
 },
 "nbformat": 4,
 "nbformat_minor": 2
}
